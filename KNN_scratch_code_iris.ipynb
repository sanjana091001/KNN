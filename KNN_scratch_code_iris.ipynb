{
  "nbformat": 4,
  "nbformat_minor": 0,
  "metadata": {
    "colab": {
      "name": "KNN_scratch_code_final.ipynb",
      "provenance": [],
      "collapsed_sections": []
    },
    "kernelspec": {
      "name": "python3",
      "display_name": "Python 3"
    }
  },
  "cells": [
    {
      "cell_type": "markdown",
      "metadata": {
        "id": "n7NXbFYmyeHU"
      },
      "source": [
        "#IMPORTS\n",
        "###importing Numpy\n",
        "\n",
        "\n",
        "\n"
      ]
    },
    {
      "cell_type": "code",
      "metadata": {
        "id": "pF9kr1z2wgfv"
      },
      "source": [
        "import numpy as np"
      ],
      "execution_count": 24,
      "outputs": []
    },
    {
      "cell_type": "markdown",
      "metadata": {
        "id": "RW8IS8ulwsWb"
      },
      "source": [
        "###Creating a class KNearestNeighbour that contains all the functions we will be using to predict \n",
        "![eucl.png](data:image/png;base64,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)\n",
        "###Creating a function euclidean_distance to find the distance between two vectors in numpy array using the above formula"
      ]
    },
    {
      "cell_type": "markdown",
      "metadata": {
        "id": "ljSiGImkiq6c"
      },
      "source": [
        "###creating a function predict() that takes train set and the test row as arguments and returns a sorted list of distances\n",
        "###iterating through train_set and calculating the distance between that train set row and test instance row and appending the tuple of row and distance to a list\n",
        "###the distances are sorted by their second element of tuple(which is the actual distances)\n",
        "###now that the distances are sorted, a new list neighbours[] is initialized which stores the k train_set rows of the shortest distances\n",
        "###the evaluate() function calculates the accuracy of the algorithm which takes the actual value and predicted value as parameters and iterates through two loops at the same time and checks if they are equal or not\n"
      ]
    },
    {
      "cell_type": "code",
      "metadata": {
        "id": "-SOcwqnuwnSX"
      },
      "source": [
        "class KNearestNeighbours(object):\n",
        "    def __init__(self, k):\n",
        "        self.k=k\n",
        "\n",
        "    @staticmethod\n",
        "    def _euclidean_distance(v1,v2):\n",
        "        v1,v2 = np.array(v1), np.array(v2)\n",
        "        distance=0\n",
        "        for i in range(len(v1)-1):\n",
        "            distance+=(v1[i]-v2[i])**2\n",
        "        return np.sqrt(distance)\n",
        "        \n",
        "\n",
        "    def predict(self,train_set, test_instance):\n",
        "        distances=[]\n",
        "        #for every train set row \n",
        "        for i in range(len(train_set)):\n",
        "            #for each numpy array , slicing up to -1\n",
        "            dist=self._euclidean_distance(train_set[i][:-1], test_instance)\n",
        "            distances.append((train_set[i], dist))\n",
        "        #sorting distances list of tuple by distance\n",
        "        distances.sort(key=lambda x:x[1])\n",
        "\n",
        "        #list to store k nearest neighbours \n",
        "        neighbours=[]\n",
        "        for i in range(self.k):\n",
        "            neighbours.append(distances[i][0])\n",
        "        classes={}\n",
        "        for i in range(len(neighbours)):\n",
        "            response=neighbours[i][-1]\n",
        "            if response in classes:\n",
        "                classes[response]+=1\n",
        "            else:\n",
        "                classes[response]=1\n",
        "\n",
        "        sorted_classes=sorted(classes.items(), key=lambda x:x[1], reverse=True)\n",
        "        return sorted_classes[0][0]\n",
        "    \n",
        "\n",
        "    @staticmethod   \n",
        "    def evaluate(y_true, y_pred):\n",
        "        n_correct=0\n",
        "        #iterating two lists at the same time\n",
        "        for act, pred in zip(y_true, y_pred):\n",
        "            if act==pred:\n",
        "                n_correct+=1\n",
        "        return n_correct/len(y_true)\n"
      ],
      "execution_count": 25,
      "outputs": []
    },
    {
      "cell_type": "markdown",
      "metadata": {
        "id": "wzZBrB4MvcHp"
      },
      "source": [
        "###importing pandas and sklearn(only for dataset)"
      ]
    },
    {
      "cell_type": "code",
      "metadata": {
        "id": "Z18HWBjLw2Ik"
      },
      "source": [
        "import pandas as pd\n",
        "from sklearn.datasets import load_iris"
      ],
      "execution_count": 26,
      "outputs": []
    },
    {
      "cell_type": "markdown",
      "metadata": {
        "id": "p2Om_5pPw4kr"
      },
      "source": [
        "###iris_dataset variable stores the dataset as a bunch object. A bunch object is similar to a python dictionary in ScikitLearn\n",
        "###Y_iris stores the target columns and the dataset is converted to a pandas dataframe for easy access\n",
        "###the dataset is modified so as to include the target column as well\n",
        "###Here:\n",
        "###class 0 - Iris-sentosa\n",
        "###class 1 - Iris-versicolor\n",
        "###class 2 - Iris-virginica\n"
      ]
    },
    {
      "cell_type": "code",
      "metadata": {
        "id": "7kFsFSmRw48K",
        "outputId": "0875ad95-8aea-4d81-f0b0-ff8c08f4f2cd",
        "colab": {
          "base_uri": "https://localhost:8080/",
          "height": 395
        }
      },
      "source": [
        "iris_dataset=load_iris()\n",
        "Y_iris=iris_dataset.target\n",
        "iris_dataset=pd.DataFrame(iris_dataset.data, columns=iris_dataset.feature_names)\n",
        "iris_dataset=pd.concat([iris_dataset,pd.Series(Y_iris)], axis=1)\n",
        "iris_dataset.rename(columns={0: 'class'}, inplace=True)\n",
        "print(iris_dataset.isnull().sum()) #checking if there are any missing values to avoid errors\n",
        "print(\"\\n\",iris_dataset)"
      ],
      "execution_count": 29,
      "outputs": [
        {
          "output_type": "stream",
          "text": [
            "sepal length (cm)    0\n",
            "sepal width (cm)     0\n",
            "petal length (cm)    0\n",
            "petal width (cm)     0\n",
            "class                0\n",
            "dtype: int64\n",
            "\n",
            "      sepal length (cm)  sepal width (cm)  ...  petal width (cm)  class\n",
            "0                  5.1               3.5  ...               0.2      0\n",
            "1                  4.9               3.0  ...               0.2      0\n",
            "2                  4.7               3.2  ...               0.2      0\n",
            "3                  4.6               3.1  ...               0.2      0\n",
            "4                  5.0               3.6  ...               0.2      0\n",
            "..                 ...               ...  ...               ...    ...\n",
            "145                6.7               3.0  ...               2.3      2\n",
            "146                6.3               2.5  ...               1.9      2\n",
            "147                6.5               3.0  ...               2.0      2\n",
            "148                6.2               3.4  ...               2.3      2\n",
            "149                5.9               3.0  ...               1.8      2\n",
            "\n",
            "[150 rows x 5 columns]\n"
          ],
          "name": "stdout"
        }
      ]
    },
    {
      "cell_type": "markdown",
      "metadata": {
        "id": "DkfBG31gxBAU"
      },
      "source": [
        "###the function train_test_split is to split the entire data into training data and testing data\n",
        "###the test_size will be 0.25, that is, 25% of the data will be used for testing\n",
        "###.sample() from Pandas takes 0.25 as an argument and returns a random sample from the entire dataset\n",
        "###now, iterating through the dataset(index only), it is checked is that particular row is present in the test_set or not, if yes the loop is goes to next iteration, if no, that particular row is added to train_set\n"
      ]
    },
    {
      "cell_type": "code",
      "metadata": {
        "id": "XKhj4SnExBqi",
        "outputId": "ce4cf9b0-20a9-4b95-ba66-bfc8729a15b1",
        "colab": {
          "base_uri": "https://localhost:8080/",
          "height": 35
        }
      },
      "source": [
        "def train_test_split(dataset, test_size=0.25):\n",
        "    n_test=int(len(dataset)*test_size)\n",
        "    test_set=dataset.sample(n_test)\n",
        "    train_set=[]\n",
        "    for ind in dataset.index:\n",
        "        if ind in test_set.index:\n",
        "            continue\n",
        "        train_set.append(dataset.iloc[ind])\n",
        "\n",
        "    train_set=pd.DataFrame(train_set).astype(float).values.tolist()\n",
        "    test_set=test_set.astype(float).values.tolist()\n",
        "\n",
        "    return train_set, test_set\n",
        "\n",
        "train_set, test_set=train_test_split(iris_dataset)\n",
        "len(train_set), len(test_set)"
      ],
      "execution_count": 28,
      "outputs": [
        {
          "output_type": "execute_result",
          "data": {
            "text/plain": [
              "(113, 37)"
            ]
          },
          "metadata": {
            "tags": []
          },
          "execution_count": 28
        }
      ]
    },
    {
      "cell_type": "markdown",
      "metadata": {
        "id": "jZ2ScRSlxE-Z"
      },
      "source": [
        "###after splitting the entire dataset into training set and testing set, each test set and entire train set is passed as arguments to the predict function\n",
        "###preds[] stores the predicted class values\n",
        "###on iterating through the test_set, each row of test_set and the train_set is passed as arguments for the predict() function and the output is appended to preds[] list\n",
        "###actual is a numpy array of all the actual class values and evaluate() function finds the accuracy of the model\n",
        "###for finding the optimum value of k, a for loop is used that calculates accuracy for all k values ranging from 1 to 15\n",
        "###finally, the test_instance is accepted as user input, and class of Iris is predicted"
      ]
    },
    {
      "cell_type": "code",
      "metadata": {
        "id": "b65yl6OdxFiL",
        "outputId": "bfc888f0-ac4b-47cc-8892-36071b9bc158",
        "colab": {
          "base_uri": "https://localhost:8080/",
          "height": 503
        }
      },
      "source": [
        "import matplotlib.pyplot as plt\n",
        "\n",
        "knn=KNearestNeighbours(k=3)\n",
        "preds=[]\n",
        "\n",
        "for row in test_set:\n",
        "    predictors_only=row[:-1] #slicing row upto last row(excluding last row)\n",
        "    prediction=knn.predict(train_set, predictors_only)\n",
        "    preds.append(prediction)\n",
        "\n",
        "actual=np.array(test_set)[:, -1]\n",
        "print(knn.evaluate(actual, preds))\n",
        "\n",
        "k_eval=[]\n",
        "for k in range(1,16):\n",
        "    knn=KNearestNeighbours(k=k)\n",
        "    preds=[]\n",
        "    for row in test_set:\n",
        "        predictors_only=row[:-1]\n",
        "        prediction=knn.predict(train_set, predictors_only)\n",
        "        preds.append(prediction)\n",
        "\n",
        "    curr_accuracy=knn.evaluate(actual,preds)\n",
        "    k_eval.append((k,curr_accuracy))\n",
        "\n",
        "print(\"\\nAccuracy for each value of K:\\n\")\n",
        "for i in k_eval:\n",
        "    print(i)\n",
        "\n",
        "print(\"\\n\\n\")\n",
        "\n",
        "pred_row2=[]\n",
        "sep_len=float(input(\"Enter Sepal Length(cm): \"))\n",
        "pred_row2.append(sep_len)\n",
        "sep_wid=float(input(\"Enter Sepal Width(cm): \"))\n",
        "pred_row2.append(sep_wid)\n",
        "pet_len=float(input(\"Enter Petal Length(cm): \"))\n",
        "pred_row2.append(pet_len)\n",
        "pet_wid=float(input(\"Enter Petal Width(cm): \"))\n",
        "pred_row2.append(pet_wid)\n",
        "prediction2=knn.predict(train_set, pred_row2)\n",
        "if prediction2==0.0:\n",
        "    print(\"Species: Iris-sentosa\")\n",
        "elif prediction2==1.0:\n",
        "    print(\"Species: Iris-versicolor\")\n",
        "else:\n",
        "    print(\"Species: Iris-virginica\")\n",
        "\n",
        "\n"
      ],
      "execution_count": 23,
      "outputs": [
        {
          "output_type": "stream",
          "text": [
            "0.8918918918918919\n",
            "\n",
            "Accuracy for each value of K:\n",
            "\n",
            "(1, 0.918918918918919)\n",
            "(2, 0.918918918918919)\n",
            "(3, 0.8918918918918919)\n",
            "(4, 0.918918918918919)\n",
            "(5, 0.918918918918919)\n",
            "(6, 0.9459459459459459)\n",
            "(7, 0.918918918918919)\n",
            "(8, 0.918918918918919)\n",
            "(9, 0.918918918918919)\n",
            "(10, 0.8918918918918919)\n",
            "(11, 0.8648648648648649)\n",
            "(12, 0.8648648648648649)\n",
            "(13, 0.8918918918918919)\n",
            "(14, 0.8918918918918919)\n",
            "(15, 0.8648648648648649)\n",
            "\n",
            "\n",
            "\n",
            "Enter Sepal Length(cm): 5.6\n",
            "Enter Sepal Width(cm): 2.5\n",
            "Enter Petal Length(cm): 3.8\n",
            "Enter Petal Width(cm): 2\n",
            "Species: Iris-versicolor\n"
          ],
          "name": "stdout"
        }
      ]
    }
  ]
}